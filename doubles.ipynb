{
 "cells": [
  {
   "cell_type": "code",
   "execution_count": null,
   "metadata": {},
   "outputs": [],
   "source": [
    "import pandas as pd\n",
    "from collections import Counter\n",
    "import os\n",
    "from glob import glob\n",
    "import csv"
   ]
  },
  {
   "cell_type": "markdown",
   "metadata": {},
   "source": [
    "The ATP dousbles CSV files had inconsistent formatting, including misaligned headers, extra commas, and irregular quoting. As a result, using column names with pandas oftern returned incorrect data. To ensure accurate extraction, I manually parsed each row and selected fields by fixed column positions based on the dataset's known structure. "
   ]
  },
  {
   "cell_type": "code",
   "execution_count": 31,
   "metadata": {},
   "outputs": [
    {
     "name": "stdout",
     "output_type": "stream",
     "text": [
      "Done with manual loading and cleaning!\n"
     ]
    }
   ],
   "source": [
    "# These are the indices (column positions) based on the raw CSV row\n",
    "column_indices = {\n",
    "    'tourney_name': 1,\n",
    "    'surface': 2,\n",
    "    'round': 17,\n",
    "    'tourney_date': 5,\n",
    "    'winner1_name': 18,\n",
    "    'winner2_name': 23,\n",
    "    'loser1_name': 28,\n",
    "    'loser2_name': 33,\n",
    "    'winner1_ioc': 21,\n",
    "    'winner2_ioc': 26,\n",
    "    'loser1_ioc': 31,\n",
    "    'loser2_ioc': 36,\n",
    "    'winner1_age': 22,\n",
    "    'winner2_age': 27,\n",
    "    'loser1_age': 32,\n",
    "    'loser2_age': 37,\n",
    "    'score': 15,\n",
    "    'minutes': 48\n",
    "}\n",
    "\n",
    "folder_path = 'data/doubles/'\n",
    "file_paths = sorted(glob(os.path.join(folder_path, 'atp_matches_doubles_*.csv')))\n",
    "\n",
    "records = []\n",
    "\n",
    "for file_path in file_paths:\n",
    "    year = int(os.path.basename(file_path).split('_')[-1].split('.')[0])\n",
    "\n",
    "    with open(file_path, 'r', encoding='utf-8') as f:\n",
    "        reader = csv.reader(f)\n",
    "        header = next(reader)  # Skip header row\n",
    "\n",
    "        for row in reader:\n",
    "            try:\n",
    "                record = {key: row[idx] if idx < len(row) else None for key, idx in column_indices.items()}\n",
    "                record['year'] = year\n",
    "                records.append(record)\n",
    "            except Exception as e:\n",
    "                print(f\"Skipping broken row in {file_path}: {e}\")\n",
    "                continue\n",
    "\n",
    "# Convert to DataFrame\n",
    "df = pd.DataFrame(records)\n",
    "\n",
    "# Drop rows with missing player names\n",
    "required_names = ['winner1_name', 'winner2_name', 'loser1_name', 'loser2_name']\n",
    "df.dropna(subset=required_names, inplace=True)\n",
    "\n",
    "print(\"Done with manual loading and cleaning!\")"
   ]
  },
  {
   "cell_type": "markdown",
   "metadata": {},
   "source": [
    "Most doubles wins. This method ranks players by the total number of doubles matches they won, regardless of their partner. This reflects endurance, skill, and consistent success over time. "
   ]
  },
  {
   "cell_type": "code",
   "execution_count": 32,
   "metadata": {},
   "outputs": [
    {
     "name": "stdout",
     "output_type": "stream",
     "text": [
      "            player  wins\n",
      "0       Mike Bryan  1111\n",
      "1        Bob Bryan  1071\n",
      "2    Daniel Nestor   846\n",
      "3       Max Mirnyi   711\n",
      "4   Nenad Zimonjic   675\n",
      "5     Leander Paes   558\n",
      "6  Mahesh Bhupathi   528\n",
      "7     Mark Knowles   527\n",
      "8     Marcelo Melo   514\n",
      "9     Bruno Soares   480\n"
     ]
    }
   ],
   "source": [
    "# Count wins for each player in winner1_name and winner2_name\n",
    "winners = pd.concat([df['winner1_name'], df['winner2_name']])\n",
    "win_counts = winners.value_counts().reset_index()\n",
    "win_counts.columns = ['player', 'wins']\n",
    "\n",
    "print(win_counts.head(10))  # Top 10 most winning players\n"
   ]
  },
  {
   "cell_type": "markdown",
   "metadata": {},
   "source": [
    "Most finals won"
   ]
  },
  {
   "cell_type": "code",
   "execution_count": 33,
   "metadata": {},
   "outputs": [
    {
     "name": "stdout",
     "output_type": "stream",
     "text": [
      "            player  finals_won\n",
      "0       Mike Bryan         124\n",
      "1        Bob Bryan         119\n",
      "2    Daniel Nestor          78\n",
      "3   Nenad Zimonjic          52\n",
      "4       Max Mirnyi          47\n",
      "5     Mark Knowles          43\n",
      "6      Horia Tecau          37\n",
      "7     Leander Paes          36\n",
      "8  Mahesh Bhupathi          36\n",
      "9   Jonas Bjorkman          34\n"
     ]
    }
   ],
   "source": [
    "final_winners = df[df['round'] == 'F']\n",
    "finals = pd.concat([final_winners['winner1_name'], final_winners['winner2_name']])\n",
    "final_win_counts = finals.value_counts().reset_index()\n",
    "final_win_counts.columns = ['player', 'finals_won']\n",
    "\n",
    "print(final_win_counts.head(10))\n"
   ]
  },
  {
   "cell_type": "markdown",
   "metadata": {},
   "source": [
    "best win ratio"
   ]
  },
  {
   "cell_type": "code",
   "execution_count": 38,
   "metadata": {},
   "outputs": [
    {
     "name": "stdout",
     "output_type": "stream",
     "text": [
      "                  player  win_ratio  matches    wins\n",
      "0         Mark Woodforde   0.828125       64    53.0\n",
      "1        Todd Woodbridge   0.771429      315   243.0\n",
      "2              Bob Bryan   0.770504     1390  1071.0\n",
      "3             Mike Bryan   0.769391     1444  1111.0\n",
      "4          Paul Haarhuis   0.733871      124    91.0\n",
      "5         Jonas Bjorkman   0.718261      575   413.0\n",
      "6          Daniel Nestor   0.694581     1218   846.0\n",
      "7           Mark Knowles   0.685306      769   527.0\n",
      "8          Sandon Stolle   0.683962      212   145.0\n",
      "9  Pierre Hugues Herbert   0.672340      235   158.0\n"
     ]
    }
   ],
   "source": [
    "# Count total wins per player\n",
    "win_players = pd.concat([df['winner1_name'], df['winner2_name']])\n",
    "win_counts = win_players.value_counts()\n",
    "\n",
    "# Count total matches played (wins + losses)\n",
    "all_players = pd.concat([\n",
    "    df['winner1_name'], df['winner2_name'],\n",
    "    df['loser1_name'], df['loser2_name']\n",
    "])\n",
    "match_counts = all_players.value_counts()\n",
    "\n",
    "# Combine into a DataFrame for alignment\n",
    "win_df = pd.DataFrame({\n",
    "    'wins': win_counts,\n",
    "    'matches': match_counts\n",
    "}).dropna()\n",
    "\n",
    "# Calculate win ratio\n",
    "win_df['win_ratio'] = win_df['wins'] / win_df['matches']\n",
    "\n",
    "# Filter by minimum match threshold\n",
    "min_matches = 50\n",
    "filtered = win_df[win_df['matches'] >= min_matches]\n",
    "\n",
    "# Show top players by win ratio\n",
    "filtered = filtered.sort_values('win_ratio', ascending=False).reset_index()\n",
    "filtered.rename(columns={'index': 'player'}, inplace=True)\n",
    "\n",
    "print(filtered[['player', 'win_ratio', 'matches', 'wins']].head(10))\n"
   ]
  },
  {
   "cell_type": "markdown",
   "metadata": {},
   "source": [
    "most wins as a par - strongest team"
   ]
  },
  {
   "cell_type": "code",
   "execution_count": 36,
   "metadata": {},
   "outputs": [
    {
     "name": "stdout",
     "output_type": "stream",
     "text": [
      "                                      team  wins\n",
      "0                  (Bob Bryan, Mike Bryan)  1071\n",
      "1            (Daniel Nestor, Mark Knowles)   324\n",
      "2  (Marcin Matkowski, Mariusz Fyrstenberg)   321\n",
      "3     (Juan Sebastian Cabal, Robert Farah)   257\n",
      "4          (Daniel Nestor, Nenad Zimonjic)   225\n",
      "5              (Andy Ram, Jonathan Erlich)   223\n",
      "6         (Horia Tecau, Jean Julien Rojer)   220\n",
      "7             (Kevin Ullyett, Wayne Black)   176\n",
      "8        (Jonas Bjorkman, Todd Woodbridge)   161\n",
      "9           (Alexander Peya, Bruno Soares)   155\n"
     ]
    }
   ],
   "source": [
    "# Sort pair names alphabetically to count consistently\n",
    "df['team'] = df.apply(lambda row: tuple(sorted([row['winner1_name'], row['winner2_name']])), axis=1)\n",
    "team_wins = df['team'].value_counts().reset_index()\n",
    "team_wins.columns = ['team', 'wins']\n",
    "\n",
    "print(team_wins.head(10))\n"
   ]
  },
  {
   "cell_type": "code",
   "execution_count": 39,
   "metadata": {},
   "outputs": [
    {
     "name": "stdout",
     "output_type": "stream",
     "text": [
      "Per Player Matches by Surface:\n",
      "                  player surface  matches\n",
      "0                           Clay        1\n",
      "1                          Grass        5\n",
      "2                           Hard       11\n",
      "3          Aaron Capitel    Hard        1\n",
      "4  Abdul Hamid Makhkamov    Hard        1\n"
     ]
    }
   ],
   "source": [
    "# Combine all players with surface info\n",
    "player_surface = pd.concat([\n",
    "    df[['winner1_name', 'surface']].rename(columns={'winner1_name': 'player'}),\n",
    "    df[['winner2_name', 'surface']].rename(columns={'winner2_name': 'player'}),\n",
    "    df[['loser1_name', 'surface']].rename(columns={'loser1_name': 'player'}),\n",
    "    df[['loser2_name', 'surface']].rename(columns={'loser2_name': 'player'}),\n",
    "])\n",
    "\n",
    "player_surface.dropna(subset=['player', 'surface'], inplace=True)\n",
    "\n",
    "# Count matches per player per surface\n",
    "player_surface_counts = player_surface.groupby(['player', 'surface']).size().reset_index(name='matches')\n",
    "\n",
    "print(\"Per Player Matches by Surface:\")\n",
    "print(player_surface_counts.head())\n"
   ]
  },
  {
   "cell_type": "code",
   "execution_count": 40,
   "metadata": {},
   "outputs": [
    {
     "name": "stdout",
     "output_type": "stream",
     "text": [
      "🎾 Per Team Matches by Surface:\n",
      "                              team surface  matches\n",
      "0      (Adam Feeney, Carsten Ball)    Hard        3\n",
      "1   (Adam Feeney, Colin Ebelthite)    Hard        2\n",
      "2   (Adam Feeney, Johan Brunstrom)   Grass        2\n",
      "3     (Adam Feeney, Robert Smeets)    Hard        1\n",
      "4  (Adam Peterson, Alex Calatrava)    Clay        1\n"
     ]
    }
   ],
   "source": [
    "# Create team columns (sort names so team order doesn't matter)\n",
    "df['team'] = df.apply(lambda row: tuple(sorted([row['winner1_name'], row['winner2_name']])), axis=1)\n",
    "df['surface'] = df['surface'].fillna('Unknown')\n",
    "\n",
    "# Keep only relevant columns\n",
    "team_surface = df[['team', 'surface']].dropna()\n",
    "\n",
    "# Count how many matches each team played on each surface\n",
    "team_surface_counts = team_surface.groupby(['team', 'surface']).size().reset_index(name='matches')\n",
    "\n",
    "print(\"🎾 Per Team Matches by Surface:\")\n",
    "print(team_surface_counts.head())\n"
   ]
  }
 ],
 "metadata": {
  "kernelspec": {
   "display_name": "base",
   "language": "python",
   "name": "python3"
  },
  "language_info": {
   "codemirror_mode": {
    "name": "ipython",
    "version": 3
   },
   "file_extension": ".py",
   "mimetype": "text/x-python",
   "name": "python",
   "nbconvert_exporter": "python",
   "pygments_lexer": "ipython3",
   "version": "3.12.4"
  }
 },
 "nbformat": 4,
 "nbformat_minor": 2
}
