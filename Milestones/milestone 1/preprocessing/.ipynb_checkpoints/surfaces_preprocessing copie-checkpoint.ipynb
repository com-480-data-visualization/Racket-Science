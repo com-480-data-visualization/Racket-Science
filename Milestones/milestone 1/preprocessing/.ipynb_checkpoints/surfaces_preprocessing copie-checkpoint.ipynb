{
 "cells": [
  {
   "cell_type": "code",
   "execution_count": 1,
   "id": "56100a5f",
   "metadata": {},
   "outputs": [
    {
     "name": "stderr",
     "output_type": "stream",
     "text": [
      "/Users/luna/opt/anaconda3/lib/python3.9/site-packages/scipy/__init__.py:146: UserWarning: A NumPy version >=1.16.5 and <1.23.0 is required for this version of SciPy (detected version 1.26.4\n",
      "  warnings.warn(f\"A NumPy version >={np_minversion} and <{np_maxversion}\"\n"
     ]
    }
   ],
   "source": [
    "import numpy as np\n",
    "import pandas as pd\n",
    "import seaborn as sns\n",
    "import matplotlib.pyplot as plt\n",
    "from geopy.geocoders import Nominatim\n",
    "import pycountry_convert as pc\n",
    "from geopy import geocoders\n",
    "import time \n",
    "import json"
   ]
  },
  {
   "cell_type": "code",
   "execution_count": 2,
   "id": "e26b72f7",
   "metadata": {},
   "outputs": [
    {
     "data": {
      "text/plain": [
       "'/Users/luna/Documents/EPFL/Master/MA2/DataViz/Racket-Science/Milestones/milestone 1/preprocessing'"
      ]
     },
     "execution_count": 2,
     "metadata": {},
     "output_type": "execute_result"
    }
   ],
   "source": [
    "import os\n",
    "os.getcwd()"
   ]
  },
  {
   "cell_type": "markdown",
   "id": "578b9958",
   "metadata": {},
   "source": [
    "do not run again"
   ]
  },
  {
   "cell_type": "code",
   "execution_count": 3,
   "id": "beef4554",
   "metadata": {},
   "outputs": [
    {
     "name": "stdout",
     "output_type": "stream",
     "text": [
      "Requirement already satisfied: pycountry-convert in /Users/luna/opt/anaconda3/lib/python3.9/site-packages (0.7.2)\n",
      "Requirement already satisfied: pprintpp>=0.3.0 in /Users/luna/opt/anaconda3/lib/python3.9/site-packages (from pycountry-convert) (0.4.0)\n",
      "Requirement already satisfied: pycountry>=16.11.27.1 in /Users/luna/opt/anaconda3/lib/python3.9/site-packages (from pycountry-convert) (24.6.1)\n",
      "Requirement already satisfied: pytest>=3.4.0 in /Users/luna/opt/anaconda3/lib/python3.9/site-packages (from pycountry-convert) (7.1.1)\n",
      "Requirement already satisfied: pytest-mock>=1.6.3 in /Users/luna/opt/anaconda3/lib/python3.9/site-packages (from pycountry-convert) (3.14.0)\n",
      "Requirement already satisfied: pytest-cov>=2.5.1 in /Users/luna/opt/anaconda3/lib/python3.9/site-packages (from pycountry-convert) (4.1.0)\n",
      "Requirement already satisfied: repoze.lru>=0.7 in /Users/luna/opt/anaconda3/lib/python3.9/site-packages (from pycountry-convert) (0.7)\n",
      "Requirement already satisfied: wheel>=0.30.0 in /Users/luna/opt/anaconda3/lib/python3.9/site-packages (from pycountry-convert) (0.37.1)\n",
      "Requirement already satisfied: attrs>=19.2.0 in /Users/luna/opt/anaconda3/lib/python3.9/site-packages (from pytest>=3.4.0->pycountry-convert) (21.4.0)\n",
      "Requirement already satisfied: iniconfig in /Users/luna/opt/anaconda3/lib/python3.9/site-packages (from pytest>=3.4.0->pycountry-convert) (1.1.1)\n",
      "Requirement already satisfied: packaging in /Users/luna/opt/anaconda3/lib/python3.9/site-packages (from pytest>=3.4.0->pycountry-convert) (21.3)\n",
      "Requirement already satisfied: pluggy<2.0,>=0.12 in /Users/luna/opt/anaconda3/lib/python3.9/site-packages (from pytest>=3.4.0->pycountry-convert) (1.0.0)\n",
      "Requirement already satisfied: py>=1.8.2 in /Users/luna/opt/anaconda3/lib/python3.9/site-packages (from pytest>=3.4.0->pycountry-convert) (1.11.0)\n",
      "Requirement already satisfied: tomli>=1.0.0 in /Users/luna/opt/anaconda3/lib/python3.9/site-packages (from pytest>=3.4.0->pycountry-convert) (1.2.2)\n",
      "Requirement already satisfied: coverage>=5.2.1 in /Users/luna/opt/anaconda3/lib/python3.9/site-packages (from coverage[toml]>=5.2.1->pytest-cov>=2.5.1->pycountry-convert) (7.3.2)\n",
      "Requirement already satisfied: pyparsing!=3.0.5,>=2.0.2 in /Users/luna/opt/anaconda3/lib/python3.9/site-packages (from packaging->pytest>=3.4.0->pycountry-convert) (3.0.4)\n"
     ]
    }
   ],
   "source": [
    "!pip install pycountry-convert"
   ]
  },
  {
   "cell_type": "markdown",
   "id": "18234836",
   "metadata": {},
   "source": [
    "# The Goat on each Surface"
   ]
  },
  {
   "cell_type": "markdown",
   "id": "2aad8ff1",
   "metadata": {},
   "source": [
    "These datasets contain information and statistics about ATP and WTA tour matches. However, what interests us specifically is the surface on which these matches were played, the city, and the tournament. Therefore, we first filter the dataset to retain only the relevant information.\n",
    "\n",
    "nce there is one dataset for each year, we performed comparisons within each individual year. You can simply change the year argument to view the dataset for the year you're interested in."
   ]
  },
  {
   "cell_type": "code",
   "execution_count": 4,
   "id": "e2b1f455",
   "metadata": {},
   "outputs": [
    {
     "ename": "FileNotFoundError",
     "evalue": "[Errno 2] No such file or directory: 'data/ultimate_tennis_matches_dataset/wta/2006.xls'",
     "output_type": "error",
     "traceback": [
      "\u001b[0;31m---------------------------------------------------------------------------\u001b[0m",
      "\u001b[0;31mFileNotFoundError\u001b[0m                         Traceback (most recent call last)",
      "Input \u001b[0;32mIn [4]\u001b[0m, in \u001b[0;36m<cell line: 10>\u001b[0;34m()\u001b[0m\n\u001b[1;32m      6\u001b[0m year \u001b[38;5;241m=\u001b[39m \u001b[38;5;124m\"\u001b[39m\u001b[38;5;124m2006\u001b[39m\u001b[38;5;124m\"\u001b[39m\n\u001b[1;32m      7\u001b[0m output_folder \u001b[38;5;241m=\u001b[39m \u001b[38;5;124mf\u001b[39m\u001b[38;5;124m\"\u001b[39m\u001b[38;5;124mresults/surfaces/\u001b[39m\u001b[38;5;132;01m{\u001b[39;00myear\u001b[38;5;132;01m}\u001b[39;00m\u001b[38;5;124m/\u001b[39m\u001b[38;5;132;01m{\u001b[39;00mwta_or_atp\u001b[38;5;132;01m}\u001b[39;00m\u001b[38;5;124m\"\u001b[39m\n\u001b[0;32m---> 10\u001b[0m ultimate \u001b[38;5;241m=\u001b[39m \u001b[43mpd\u001b[49m\u001b[38;5;241;43m.\u001b[39;49m\u001b[43mread_excel\u001b[49m\u001b[43m(\u001b[49m\u001b[43mdata_folder\u001b[49m\u001b[43m \u001b[49m\u001b[38;5;241;43m+\u001b[39;49m\u001b[43m \u001b[49m\u001b[43mwta_or_atp\u001b[49m\u001b[43m \u001b[49m\u001b[38;5;241;43m+\u001b[39;49m\u001b[43m \u001b[49m\u001b[43myear\u001b[49m\u001b[43m \u001b[49m\u001b[38;5;241;43m+\u001b[39;49m\u001b[43m \u001b[49m\u001b[38;5;124;43m\"\u001b[39;49m\u001b[38;5;124;43m.xls\u001b[39;49m\u001b[38;5;124;43m\"\u001b[39;49m\u001b[43m)\u001b[49m \n\u001b[1;32m     12\u001b[0m \u001b[38;5;66;03m#ultimate_filtered = ultimate[['Date', 'Court', 'Surface', 'Winner', 'Loser', 'Location', 'Round', 'WRank', 'WPts']]\u001b[39;00m\n\u001b[1;32m     14\u001b[0m ultimate_filtered \u001b[38;5;241m=\u001b[39m ultimate[[\u001b[38;5;124m'\u001b[39m\u001b[38;5;124mDate\u001b[39m\u001b[38;5;124m'\u001b[39m, \u001b[38;5;124m'\u001b[39m\u001b[38;5;124mSurface\u001b[39m\u001b[38;5;124m'\u001b[39m, \u001b[38;5;124m'\u001b[39m\u001b[38;5;124mWinner\u001b[39m\u001b[38;5;124m'\u001b[39m, \u001b[38;5;124m'\u001b[39m\u001b[38;5;124mTournament\u001b[39m\u001b[38;5;124m'\u001b[39m, \u001b[38;5;124m'\u001b[39m\u001b[38;5;124mLocation\u001b[39m\u001b[38;5;124m'\u001b[39m]]\n",
      "File \u001b[0;32m~/opt/anaconda3/lib/python3.9/site-packages/pandas/util/_decorators.py:311\u001b[0m, in \u001b[0;36mdeprecate_nonkeyword_arguments.<locals>.decorate.<locals>.wrapper\u001b[0;34m(*args, **kwargs)\u001b[0m\n\u001b[1;32m    305\u001b[0m \u001b[38;5;28;01mif\u001b[39;00m \u001b[38;5;28mlen\u001b[39m(args) \u001b[38;5;241m>\u001b[39m num_allow_args:\n\u001b[1;32m    306\u001b[0m     warnings\u001b[38;5;241m.\u001b[39mwarn(\n\u001b[1;32m    307\u001b[0m         msg\u001b[38;5;241m.\u001b[39mformat(arguments\u001b[38;5;241m=\u001b[39marguments),\n\u001b[1;32m    308\u001b[0m         \u001b[38;5;167;01mFutureWarning\u001b[39;00m,\n\u001b[1;32m    309\u001b[0m         stacklevel\u001b[38;5;241m=\u001b[39mstacklevel,\n\u001b[1;32m    310\u001b[0m     )\n\u001b[0;32m--> 311\u001b[0m \u001b[38;5;28;01mreturn\u001b[39;00m \u001b[43mfunc\u001b[49m\u001b[43m(\u001b[49m\u001b[38;5;241;43m*\u001b[39;49m\u001b[43margs\u001b[49m\u001b[43m,\u001b[49m\u001b[43m \u001b[49m\u001b[38;5;241;43m*\u001b[39;49m\u001b[38;5;241;43m*\u001b[39;49m\u001b[43mkwargs\u001b[49m\u001b[43m)\u001b[49m\n",
      "File \u001b[0;32m~/opt/anaconda3/lib/python3.9/site-packages/pandas/io/excel/_base.py:457\u001b[0m, in \u001b[0;36mread_excel\u001b[0;34m(io, sheet_name, header, names, index_col, usecols, squeeze, dtype, engine, converters, true_values, false_values, skiprows, nrows, na_values, keep_default_na, na_filter, verbose, parse_dates, date_parser, thousands, decimal, comment, skipfooter, convert_float, mangle_dupe_cols, storage_options)\u001b[0m\n\u001b[1;32m    455\u001b[0m \u001b[38;5;28;01mif\u001b[39;00m \u001b[38;5;129;01mnot\u001b[39;00m \u001b[38;5;28misinstance\u001b[39m(io, ExcelFile):\n\u001b[1;32m    456\u001b[0m     should_close \u001b[38;5;241m=\u001b[39m \u001b[38;5;28;01mTrue\u001b[39;00m\n\u001b[0;32m--> 457\u001b[0m     io \u001b[38;5;241m=\u001b[39m \u001b[43mExcelFile\u001b[49m\u001b[43m(\u001b[49m\u001b[43mio\u001b[49m\u001b[43m,\u001b[49m\u001b[43m \u001b[49m\u001b[43mstorage_options\u001b[49m\u001b[38;5;241;43m=\u001b[39;49m\u001b[43mstorage_options\u001b[49m\u001b[43m,\u001b[49m\u001b[43m \u001b[49m\u001b[43mengine\u001b[49m\u001b[38;5;241;43m=\u001b[39;49m\u001b[43mengine\u001b[49m\u001b[43m)\u001b[49m\n\u001b[1;32m    458\u001b[0m \u001b[38;5;28;01melif\u001b[39;00m engine \u001b[38;5;129;01mand\u001b[39;00m engine \u001b[38;5;241m!=\u001b[39m io\u001b[38;5;241m.\u001b[39mengine:\n\u001b[1;32m    459\u001b[0m     \u001b[38;5;28;01mraise\u001b[39;00m \u001b[38;5;167;01mValueError\u001b[39;00m(\n\u001b[1;32m    460\u001b[0m         \u001b[38;5;124m\"\u001b[39m\u001b[38;5;124mEngine should not be specified when passing \u001b[39m\u001b[38;5;124m\"\u001b[39m\n\u001b[1;32m    461\u001b[0m         \u001b[38;5;124m\"\u001b[39m\u001b[38;5;124man ExcelFile - ExcelFile already has the engine set\u001b[39m\u001b[38;5;124m\"\u001b[39m\n\u001b[1;32m    462\u001b[0m     )\n",
      "File \u001b[0;32m~/opt/anaconda3/lib/python3.9/site-packages/pandas/io/excel/_base.py:1376\u001b[0m, in \u001b[0;36mExcelFile.__init__\u001b[0;34m(self, path_or_buffer, engine, storage_options)\u001b[0m\n\u001b[1;32m   1374\u001b[0m     ext \u001b[38;5;241m=\u001b[39m \u001b[38;5;124m\"\u001b[39m\u001b[38;5;124mxls\u001b[39m\u001b[38;5;124m\"\u001b[39m\n\u001b[1;32m   1375\u001b[0m \u001b[38;5;28;01melse\u001b[39;00m:\n\u001b[0;32m-> 1376\u001b[0m     ext \u001b[38;5;241m=\u001b[39m \u001b[43minspect_excel_format\u001b[49m\u001b[43m(\u001b[49m\n\u001b[1;32m   1377\u001b[0m \u001b[43m        \u001b[49m\u001b[43mcontent_or_path\u001b[49m\u001b[38;5;241;43m=\u001b[39;49m\u001b[43mpath_or_buffer\u001b[49m\u001b[43m,\u001b[49m\u001b[43m \u001b[49m\u001b[43mstorage_options\u001b[49m\u001b[38;5;241;43m=\u001b[39;49m\u001b[43mstorage_options\u001b[49m\n\u001b[1;32m   1378\u001b[0m \u001b[43m    \u001b[49m\u001b[43m)\u001b[49m\n\u001b[1;32m   1379\u001b[0m     \u001b[38;5;28;01mif\u001b[39;00m ext \u001b[38;5;129;01mis\u001b[39;00m \u001b[38;5;28;01mNone\u001b[39;00m:\n\u001b[1;32m   1380\u001b[0m         \u001b[38;5;28;01mraise\u001b[39;00m \u001b[38;5;167;01mValueError\u001b[39;00m(\n\u001b[1;32m   1381\u001b[0m             \u001b[38;5;124m\"\u001b[39m\u001b[38;5;124mExcel file format cannot be determined, you must specify \u001b[39m\u001b[38;5;124m\"\u001b[39m\n\u001b[1;32m   1382\u001b[0m             \u001b[38;5;124m\"\u001b[39m\u001b[38;5;124man engine manually.\u001b[39m\u001b[38;5;124m\"\u001b[39m\n\u001b[1;32m   1383\u001b[0m         )\n",
      "File \u001b[0;32m~/opt/anaconda3/lib/python3.9/site-packages/pandas/io/excel/_base.py:1250\u001b[0m, in \u001b[0;36minspect_excel_format\u001b[0;34m(content_or_path, storage_options)\u001b[0m\n\u001b[1;32m   1247\u001b[0m \u001b[38;5;28;01mif\u001b[39;00m \u001b[38;5;28misinstance\u001b[39m(content_or_path, \u001b[38;5;28mbytes\u001b[39m):\n\u001b[1;32m   1248\u001b[0m     content_or_path \u001b[38;5;241m=\u001b[39m BytesIO(content_or_path)\n\u001b[0;32m-> 1250\u001b[0m \u001b[38;5;28;01mwith\u001b[39;00m \u001b[43mget_handle\u001b[49m\u001b[43m(\u001b[49m\n\u001b[1;32m   1251\u001b[0m \u001b[43m    \u001b[49m\u001b[43mcontent_or_path\u001b[49m\u001b[43m,\u001b[49m\u001b[43m \u001b[49m\u001b[38;5;124;43m\"\u001b[39;49m\u001b[38;5;124;43mrb\u001b[39;49m\u001b[38;5;124;43m\"\u001b[39;49m\u001b[43m,\u001b[49m\u001b[43m \u001b[49m\u001b[43mstorage_options\u001b[49m\u001b[38;5;241;43m=\u001b[39;49m\u001b[43mstorage_options\u001b[49m\u001b[43m,\u001b[49m\u001b[43m \u001b[49m\u001b[43mis_text\u001b[49m\u001b[38;5;241;43m=\u001b[39;49m\u001b[38;5;28;43;01mFalse\u001b[39;49;00m\n\u001b[1;32m   1252\u001b[0m \u001b[43m\u001b[49m\u001b[43m)\u001b[49m \u001b[38;5;28;01mas\u001b[39;00m handle:\n\u001b[1;32m   1253\u001b[0m     stream \u001b[38;5;241m=\u001b[39m handle\u001b[38;5;241m.\u001b[39mhandle\n\u001b[1;32m   1254\u001b[0m     stream\u001b[38;5;241m.\u001b[39mseek(\u001b[38;5;241m0\u001b[39m)\n",
      "File \u001b[0;32m~/opt/anaconda3/lib/python3.9/site-packages/pandas/io/common.py:798\u001b[0m, in \u001b[0;36mget_handle\u001b[0;34m(path_or_buf, mode, encoding, compression, memory_map, is_text, errors, storage_options)\u001b[0m\n\u001b[1;32m    789\u001b[0m         handle \u001b[38;5;241m=\u001b[39m \u001b[38;5;28mopen\u001b[39m(\n\u001b[1;32m    790\u001b[0m             handle,\n\u001b[1;32m    791\u001b[0m             ioargs\u001b[38;5;241m.\u001b[39mmode,\n\u001b[0;32m   (...)\u001b[0m\n\u001b[1;32m    794\u001b[0m             newline\u001b[38;5;241m=\u001b[39m\u001b[38;5;124m\"\u001b[39m\u001b[38;5;124m\"\u001b[39m,\n\u001b[1;32m    795\u001b[0m         )\n\u001b[1;32m    796\u001b[0m     \u001b[38;5;28;01melse\u001b[39;00m:\n\u001b[1;32m    797\u001b[0m         \u001b[38;5;66;03m# Binary mode\u001b[39;00m\n\u001b[0;32m--> 798\u001b[0m         handle \u001b[38;5;241m=\u001b[39m \u001b[38;5;28;43mopen\u001b[39;49m\u001b[43m(\u001b[49m\u001b[43mhandle\u001b[49m\u001b[43m,\u001b[49m\u001b[43m \u001b[49m\u001b[43mioargs\u001b[49m\u001b[38;5;241;43m.\u001b[39;49m\u001b[43mmode\u001b[49m\u001b[43m)\u001b[49m\n\u001b[1;32m    799\u001b[0m     handles\u001b[38;5;241m.\u001b[39mappend(handle)\n\u001b[1;32m    801\u001b[0m \u001b[38;5;66;03m# Convert BytesIO or file objects passed with an encoding\u001b[39;00m\n",
      "\u001b[0;31mFileNotFoundError\u001b[0m: [Errno 2] No such file or directory: 'data/ultimate_tennis_matches_dataset/wta/2006.xls'"
     ]
    }
   ],
   "source": [
    "# Print head of the filtered data, (the usefull informations)\n",
    "\n",
    "\n",
    "data_folder = \"data/ultimate_tennis_matches_dataset/\"\n",
    "wta_or_atp = \"atp/\"\n",
    "year = \"2025\"\n",
    "output_folder = f\"results/surfaces/{year}/{wta_or_atp}\"\n",
    "\n",
    "\n",
    "ultimate = pd.read_excel(data_folder + wta_or_atp + year + \".xls\") \n",
    "\n",
    "#ultimate_filtered = ultimate[['Date', 'Court', 'Surface', 'Winner', 'Loser', 'Location', 'Round', 'WRank', 'WPts']]\n",
    "\n",
    "ultimate_filtered = ultimate[['Date', 'Surface', 'Winner', 'Tournament', 'Location']]\n",
    "\n",
    "print(ultimate_filtered.head())"
   ]
  },
  {
   "cell_type": "code",
   "execution_count": null,
   "id": "8970f6f5",
   "metadata": {},
   "outputs": [],
   "source": [
    "# Print the number of wins per players for each surface, across the whole dataset \n",
    "# (i.e. per year and not dependant of the location)\n",
    "\n",
    "# Count the number of wins per surface for each winner\n",
    "surface_counts = ultimate_filtered.groupby(['Winner', 'Surface']).size().unstack(fill_value=0)\n",
    "\n",
    "print(\"The number of wins per players for each surface, across the whole dataset:\\n\")\n",
    "# Display the results\n",
    "print(surface_counts)"
   ]
  },
  {
   "cell_type": "code",
   "execution_count": null,
   "id": "81c9b9d4",
   "metadata": {
    "scrolled": true
   },
   "outputs": [],
   "source": [
    "# The best player for each surface across the whole dataset \n",
    "# (i.e. per year and not dependant of the location)\n",
    "\n",
    "# Find the top player on each surface\n",
    "grass = clay = hard = False\n",
    "\n",
    "if 'Grass' in surface_counts: \n",
    "    grass = True \n",
    "    best_grass = surface_counts['Grass'].idxmax()\n",
    "    print(f\"Best Grass Court Player: {best_grass} with {surface_counts.loc[best_grass, 'Grass']} wins\")\n",
    "    \n",
    "if 'Clay' in surface_counts:\n",
    "    clay = True\n",
    "    best_clay = surface_counts['Clay'].idxmax()\n",
    "    print(f\"Best Clay Court Player: {best_clay} with {surface_counts.loc[best_clay, 'Clay']} wins\")\n",
    "\n",
    "if 'Hard' in surface_counts: \n",
    "    hard = True\n",
    "    best_hard = surface_counts['Hard'].idxmax()\n",
    "    print(f\"Best Hard Court Player: {best_hard} with {surface_counts.loc[best_hard, 'Hard']} wins\")"
   ]
  },
  {
   "cell_type": "markdown",
   "id": "90a20fce",
   "metadata": {},
   "source": [
    "# 1. Overall best players for each surface in {year}"
   ]
  },
  {
   "cell_type": "markdown",
   "id": "f2d4ebff",
   "metadata": {},
   "source": [
    "Here, we plot the top 5 players on each surface for the selected year."
   ]
  },
  {
   "cell_type": "code",
   "execution_count": null,
   "id": "651e33e2",
   "metadata": {},
   "outputs": [],
   "source": [
    "# Plot of the 5 best players on each surface across the whole dataset \n",
    "# (i.e. per year and not dependant of the location)\n",
    "\n",
    "sns.set_theme(style=\"white\", context=\"talk\")\n",
    "\n",
    "# Available surfaces in the dataset\n",
    "available_surfaces = [surface for surface in [\"Hard\", \"Clay\", \"Grass\"] if surface in surface_counts]\n",
    "\n",
    "for surface in available_surfaces:\n",
    "    win_surface_df = surface_counts[surface].reset_index().sort_values(by=surface, ascending=False)\n",
    "    win_surface_df.to_csv(output_folder + f\"overall_goat_surfaces/wins_{surface.lower()}_{year}.csv\", index=False)\n",
    "\n",
    "# Find the top 5 players for each surface\n",
    "top_players = {surface: surface_counts[[surface]].nlargest(5, surface).reset_index() for surface in available_surfaces}\n",
    "\n",
    "fig, axes = plt.subplots(len(available_surfaces), 1, figsize=(10, 4 * len(available_surfaces)), sharex=False)\n",
    "\n",
    "def add_annotations(ax, data, column):\n",
    "    for i, v in enumerate(data[column]):\n",
    "        ax.text(i, v + 0.5, str(v), ha='center', fontsize=12, fontweight='bold')\n",
    "\n",
    "palette_map = {\"Hard\": \"Blues_r\", \"Clay\": \"Reds_r\", \"Grass\": \"Greens_r\"}\n",
    "\n",
    "if len(available_surfaces) == 1:\n",
    "    axes = [axes]\n",
    "\n",
    "for i, surface in enumerate(available_surfaces):\n",
    "    sns.barplot(\n",
    "        x=\"Winner\",\n",
    "        y=surface,\n",
    "        data=top_players[surface],\n",
    "        palette=palette_map[surface],\n",
    "        ax=axes[i]\n",
    "    )\n",
    "    axes[i].set_title(f\"Top 5 GOAT Players on {surface} Courts\")\n",
    "    axes[i].set_ylabel(\"Wins\")\n",
    "    axes[i].set_xlabel(\"\")\n",
    "    axes[i].axhline(0, color=\"k\", clip_on=False)\n",
    "    add_annotations(axes[i], top_players[surface], surface)\n",
    "\n",
    "sns.despine(bottom=True)\n",
    "plt.tight_layout(h_pad=2)\n",
    "\n",
    "#plt.show()"
   ]
  },
  {
   "cell_type": "markdown",
   "id": "41a30bdb",
   "metadata": {},
   "source": [
    "# 3. Best players on each surface, per tournaments in {year}"
   ]
  },
  {
   "cell_type": "markdown",
   "id": "38c0bf08",
   "metadata": {},
   "source": [
    "Here, the analysis goes beyond just the year: it compares player performances by tournament to identify the GOATs of each one."
   ]
  },
  {
   "cell_type": "code",
   "execution_count": null,
   "id": "171ece6b",
   "metadata": {},
   "outputs": [],
   "source": [
    "tournament_names = ultimate['Tournament'].unique()\n",
    "\n",
    "# Count the number of matches per Tournament\n",
    "tournament_counts = ultimate_filtered[['Tournament']].value_counts()\n",
    "\n",
    "print(tournament_counts)"
   ]
  },
  {
   "cell_type": "code",
   "execution_count": null,
   "id": "52feae40",
   "metadata": {},
   "outputs": [],
   "source": [
    "# Find the best player for each city on each surface \n",
    "# (Usually every city has only one surface's type)\n",
    "# Save the classement in each city in {year} for each surface\n",
    "\n",
    "tournament_results = {}\n",
    "    \n",
    "with open(output_folder + f'tournament_list/tournaments_{year}.json', 'w', encoding='utf-8') as f:\n",
    "    json.dump(tournament_names.tolist(), f, ensure_ascii=False, indent=2)\n",
    "    \n",
    "def save_csv_tournament(df, surface, tournament): \n",
    "    sorted_df = df[surface].sort_values(ascending=False)\n",
    "    file_name = output_folder + f\"tournament_goat/{tournament}_goat_players_on_{surface}_{year}.csv\"\n",
    "    sorted_df.to_csv(file_name, index=True)\n",
    "\n",
    "for tournament in tournament_names:\n",
    "\n",
    "    tournament_df = ultimate[ultimate['Tournament'] == tournament]\n",
    "\n",
    "    # Compute wins by surface for each tournament\n",
    "    tournament_surface_counts = tournament_df.groupby(['Winner', 'Surface']).size().unstack(fill_value=0)\n",
    "\n",
    "    tournament_results[tournament] = tournament_surface_counts\n",
    "    \n",
    "    print(f\"Tournament: {tournament}\")\n",
    "    if 'Grass' in tournament_surface_counts: \n",
    "        best_grass = tournament_surface_counts['Grass'].idxmax()\n",
    "        #print(f\"🎾 GOAT Grass Court Player in {tournament} in {year} 🎾: {best_grass} with {tournament_surface_counts.loc[best_grass, 'Grass']} wins\")\n",
    "        save_csv_tournament(tournament_surface_counts, 'Grass', tournament)\n",
    "        \n",
    "    if 'Clay' in tournament_surface_counts: \n",
    "        best_clay = tournament_surface_counts['Clay'].idxmax()\n",
    "        #print(f\"🎾 GOAT Clay Court Player in {tournament} in {year} 🎾: {best_clay} with {tournament_surface_counts.loc[best_clay, 'Clay']} wins\")\n",
    "        save_csv_tournament(tournament_surface_counts, 'Clay', tournament)\n",
    "        \n",
    "    if 'Hard' in tournament_surface_counts: \n",
    "        best_hard = tournament_surface_counts['Hard'].idxmax()\n",
    "        #print(f\"🎾 GOAT Hard Court Player in {tournament} in {year} 🎾: {best_hard} with {tournament_surface_counts.loc[best_hard, 'Hard']} wins\")\n",
    "        save_csv_tournament(tournament_surface_counts, 'Hard', tournament)\n",
    "    print(\"=\"*40)\n",
    "    "
   ]
  },
  {
   "cell_type": "code",
   "execution_count": null,
   "id": "903fe276",
   "metadata": {},
   "outputs": [],
   "source": [
    "#palette_map = {\"Hard\": \"Blues_r\", \"Clay\": \"Reds_r\", \"Grass\": \"Greens_r\"}\n",
    "\n",
    "#for tournament, df in tournament_results.items():\n",
    "\n",
    "#    df_melted = df.reset_index().melt(id_vars=\"Winner\", var_name=\"Surface\", value_name=\"Wins\")\n",
    "\n",
    "#    df_melted = df_melted[df_melted[\"Wins\"] > 0]\n",
    "\n",
    "\n",
    "    #top_5_players = df_melted.groupby(\"Surface\").apply(lambda x: x.nlargest(5, \"Wins\")).reset_index(drop=True)\n",
    "\n",
    "    #plt.figure(figsize=(10, 6))\n",
    "    #sns.barplot(\n",
    "    #    data=top_5_players,\n",
    "    #    x=\"Wins\",\n",
    "    #    y=\"Winner\",\n",
    "    #    hue=\"Surface\",\n",
    "    #    palette={surface: sns.color_palette(palette_map[surface], as_cmap=True)(0.7) for surface in top_5_players[\"Surface\"].unique()}\n",
    "    #)\n",
    "\n",
    "    #plt.title(f\"Top 5 Players by Surface in {tournament} in {year}\", fontsize=14, fontweight='bold')\n",
    "    #plt.xlabel(\"Wins\")\n",
    "    #plt.ylabel(\"Player\")\n",
    "    #plt.legend(title=\"Surface\")\n",
    "    #plt.grid(axis=\"x\", linestyle=\"--\", alpha=0.7)\n",
    "    #plt.tight_layout()\n",
    "\n",
    "    #plt.show()"
   ]
  }
 ],
 "metadata": {
  "kernelspec": {
   "display_name": "Python 3 (ipykernel)",
   "language": "python",
   "name": "python3"
  },
  "language_info": {
   "codemirror_mode": {
    "name": "ipython",
    "version": 3
   },
   "file_extension": ".py",
   "mimetype": "text/x-python",
   "name": "python",
   "nbconvert_exporter": "python",
   "pygments_lexer": "ipython3",
   "version": "3.9.12"
  }
 },
 "nbformat": 4,
 "nbformat_minor": 5
}
