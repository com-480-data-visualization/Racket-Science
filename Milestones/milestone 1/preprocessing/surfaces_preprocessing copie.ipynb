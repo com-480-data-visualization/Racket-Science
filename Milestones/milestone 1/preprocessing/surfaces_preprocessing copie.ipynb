{
 "cells": [
  {
   "cell_type": "code",
   "execution_count": 1,
   "id": "56100a5f",
   "metadata": {},
   "outputs": [
    {
     "name": "stderr",
     "output_type": "stream",
     "text": [
      "/Users/luna/opt/anaconda3/lib/python3.9/site-packages/scipy/__init__.py:146: UserWarning: A NumPy version >=1.16.5 and <1.23.0 is required for this version of SciPy (detected version 1.26.4\n",
      "  warnings.warn(f\"A NumPy version >={np_minversion} and <{np_maxversion}\"\n"
     ]
    }
   ],
   "source": [
    "import numpy as np\n",
    "import pandas as pd\n",
    "import seaborn as sns\n",
    "import matplotlib.pyplot as plt\n",
    "from geopy.geocoders import Nominatim\n",
    "import pycountry_convert as pc\n",
    "from geopy import geocoders\n",
    "import time \n",
    "import json"
   ]
  },
  {
   "cell_type": "code",
   "execution_count": 2,
   "id": "e26b72f7",
   "metadata": {},
   "outputs": [
    {
     "data": {
      "text/plain": [
       "'/Users/luna/Documents/EPFL/Master/MA2/DataViz/Racket-Science/Milestones/milestone 1/preprocessing'"
      ]
     },
     "execution_count": 2,
     "metadata": {},
     "output_type": "execute_result"
    }
   ],
   "source": [
    "import os\n",
    "os.getcwd()"
   ]
  },
  {
   "cell_type": "markdown",
   "id": "578b9958",
   "metadata": {},
   "source": [
    "do not run again"
   ]
  },
  {
   "cell_type": "code",
   "execution_count": 3,
   "id": "beef4554",
   "metadata": {},
   "outputs": [
    {
     "name": "stdout",
     "output_type": "stream",
     "text": [
      "Requirement already satisfied: pycountry-convert in /Users/luna/opt/anaconda3/lib/python3.9/site-packages (0.7.2)\n",
      "Requirement already satisfied: pprintpp>=0.3.0 in /Users/luna/opt/anaconda3/lib/python3.9/site-packages (from pycountry-convert) (0.4.0)\n",
      "Requirement already satisfied: pycountry>=16.11.27.1 in /Users/luna/opt/anaconda3/lib/python3.9/site-packages (from pycountry-convert) (24.6.1)\n",
      "Requirement already satisfied: pytest>=3.4.0 in /Users/luna/opt/anaconda3/lib/python3.9/site-packages (from pycountry-convert) (7.1.1)\n",
      "Requirement already satisfied: pytest-mock>=1.6.3 in /Users/luna/opt/anaconda3/lib/python3.9/site-packages (from pycountry-convert) (3.14.0)\n",
      "Requirement already satisfied: pytest-cov>=2.5.1 in /Users/luna/opt/anaconda3/lib/python3.9/site-packages (from pycountry-convert) (4.1.0)\n",
      "Requirement already satisfied: repoze.lru>=0.7 in /Users/luna/opt/anaconda3/lib/python3.9/site-packages (from pycountry-convert) (0.7)\n",
      "Requirement already satisfied: wheel>=0.30.0 in /Users/luna/opt/anaconda3/lib/python3.9/site-packages (from pycountry-convert) (0.37.1)\n",
      "Requirement already satisfied: attrs>=19.2.0 in /Users/luna/opt/anaconda3/lib/python3.9/site-packages (from pytest>=3.4.0->pycountry-convert) (21.4.0)\n",
      "Requirement already satisfied: iniconfig in /Users/luna/opt/anaconda3/lib/python3.9/site-packages (from pytest>=3.4.0->pycountry-convert) (1.1.1)\n",
      "Requirement already satisfied: packaging in /Users/luna/opt/anaconda3/lib/python3.9/site-packages (from pytest>=3.4.0->pycountry-convert) (21.3)\n",
      "Requirement already satisfied: pluggy<2.0,>=0.12 in /Users/luna/opt/anaconda3/lib/python3.9/site-packages (from pytest>=3.4.0->pycountry-convert) (1.0.0)\n",
      "Requirement already satisfied: py>=1.8.2 in /Users/luna/opt/anaconda3/lib/python3.9/site-packages (from pytest>=3.4.0->pycountry-convert) (1.11.0)\n",
      "Requirement already satisfied: tomli>=1.0.0 in /Users/luna/opt/anaconda3/lib/python3.9/site-packages (from pytest>=3.4.0->pycountry-convert) (1.2.2)\n",
      "Requirement already satisfied: coverage>=5.2.1 in /Users/luna/opt/anaconda3/lib/python3.9/site-packages (from coverage[toml]>=5.2.1->pytest-cov>=2.5.1->pycountry-convert) (7.3.2)\n",
      "Requirement already satisfied: pyparsing!=3.0.5,>=2.0.2 in /Users/luna/opt/anaconda3/lib/python3.9/site-packages (from packaging->pytest>=3.4.0->pycountry-convert) (3.0.4)\n"
     ]
    }
   ],
   "source": [
    "!pip install pycountry-convert"
   ]
  },
  {
   "cell_type": "markdown",
   "id": "18234836",
   "metadata": {},
   "source": [
    "# The Goat on each Surface"
   ]
  },
  {
   "cell_type": "markdown",
   "id": "2aad8ff1",
   "metadata": {},
   "source": [
    "These datasets contain information and statistics about ATP and WTA tour matches. However, what interests us specifically is the surface on which these matches were played, the city, and the tournament. Therefore, we first filter the dataset to retain only the relevant information.\n",
    "\n",
    "nce there is one dataset for each year, we performed comparisons within each individual year. You can simply change the year argument to view the dataset for the year you're interested in."
   ]
  },
  {
   "cell_type": "code",
   "execution_count": 4,
   "id": "e2b1f455",
   "metadata": {},
   "outputs": [
    {
     "name": "stdout",
     "output_type": "stream",
     "text": [
      "        Date Surface        Winner                              Tournament  \\\n",
      "0 2007-01-01    Hard     Luczak P.  Next Generation Adelaide International   \n",
      "1 2007-01-01    Hard      Serra F.  Next Generation Adelaide International   \n",
      "2 2007-01-01    Hard      Jones A.  Next Generation Adelaide International   \n",
      "3 2007-01-01    Hard   Guccione C.  Next Generation Adelaide International   \n",
      "4 2007-01-02    Hard  Mathieu P.H.  Next Generation Adelaide International   \n",
      "\n",
      "   Location  \n",
      "0  Adelaide  \n",
      "1  Adelaide  \n",
      "2  Adelaide  \n",
      "3  Adelaide  \n",
      "4  Adelaide  \n"
     ]
    }
   ],
   "source": [
    "# Print head of the filtered data, (the usefull informations)\n",
    "\n",
    "\n",
    "data_folder = \"data/ultimate_tennis_matches_dataset/\"\n",
    "wta_or_atp = \"atp/\"\n",
    "year = \"2007\"\n",
    "output_folder = f\"results/surfaces/{year}/{wta_or_atp}\"\n",
    "\n",
    "\n",
    "ultimate = pd.read_excel(data_folder + wta_or_atp + year + \".xls\") \n",
    "\n",
    "#ultimate_filtered = ultimate[['Date', 'Court', 'Surface', 'Winner', 'Loser', 'Location', 'Round', 'WRank', 'WPts']]\n",
    "\n",
    "ultimate_filtered = ultimate[['Date', 'Surface', 'Winner', 'Tournament', 'Location']]\n",
    "\n",
    "print(ultimate_filtered.head())"
   ]
  },
  {
   "cell_type": "code",
   "execution_count": 5,
   "id": "8970f6f5",
   "metadata": {},
   "outputs": [
    {
     "name": "stdout",
     "output_type": "stream",
     "text": [
      "The number of wins per players for each surface, across the whole dataset:\n",
      "\n",
      "Surface             Carpet  Clay  Grass  Hard\n",
      "Winner                                       \n",
      "Acasuso J.               0    13      0     5\n",
      "Allegro Y.               0     0      1     0\n",
      "Almagro N.               0    23      0     9\n",
      "Alves T.                 0     1      0     0\n",
      "Amritraj P.              0     0      2     0\n",
      "...                    ...   ...    ...   ...\n",
      "Zib T.                   0     0      1     2\n",
      "Zverev M.                0     1      2     3\n",
      "de Voest R.              0     0      0     3\n",
      "di Mauro A.              0     4      0     0\n",
      "van Scheppingen D.       0     0      0     1\n",
      "\n",
      "[227 rows x 4 columns]\n"
     ]
    }
   ],
   "source": [
    "# Print the number of wins per players for each surface, across the whole dataset \n",
    "# (i.e. per year and not dependant of the location)\n",
    "\n",
    "# Count the number of wins per surface for each winner\n",
    "surface_counts = ultimate_filtered.groupby(['Winner', 'Surface']).size().unstack(fill_value=0)\n",
    "\n",
    "print(\"The number of wins per players for each surface, across the whole dataset:\\n\")\n",
    "# Display the results\n",
    "print(surface_counts)"
   ]
  },
  {
   "cell_type": "code",
   "execution_count": 6,
   "id": "81c9b9d4",
   "metadata": {
    "scrolled": true
   },
   "outputs": [
    {
     "name": "stdout",
     "output_type": "stream",
     "text": [
      "Best Grass Court Player: Mahut N. with 10 wins\n",
      "Best Clay Court Player: Nadal R. with 31 wins\n",
      "Best Hard Court Player: Djokovic N. with 43 wins\n"
     ]
    }
   ],
   "source": [
    "# The best player for each surface across the whole dataset \n",
    "# (i.e. per year and not dependant of the location)\n",
    "\n",
    "# Find the top player on each surface\n",
    "grass = clay = hard = False\n",
    "\n",
    "if 'Grass' in surface_counts: \n",
    "    grass = True \n",
    "    best_grass = surface_counts['Grass'].idxmax()\n",
    "    print(f\"Best Grass Court Player: {best_grass} with {surface_counts.loc[best_grass, 'Grass']} wins\")\n",
    "    \n",
    "if 'Clay' in surface_counts:\n",
    "    clay = True\n",
    "    best_clay = surface_counts['Clay'].idxmax()\n",
    "    print(f\"Best Clay Court Player: {best_clay} with {surface_counts.loc[best_clay, 'Clay']} wins\")\n",
    "\n",
    "if 'Hard' in surface_counts: \n",
    "    hard = True\n",
    "    best_hard = surface_counts['Hard'].idxmax()\n",
    "    print(f\"Best Hard Court Player: {best_hard} with {surface_counts.loc[best_hard, 'Hard']} wins\")"
   ]
  },
  {
   "cell_type": "markdown",
   "id": "90a20fce",
   "metadata": {},
   "source": [
    "# 1. Overall best players for each surface in {year}"
   ]
  },
  {
   "cell_type": "markdown",
   "id": "f2d4ebff",
   "metadata": {},
   "source": [
    "Here, we plot the top 5 players on each surface for the selected year."
   ]
  },
  {
   "cell_type": "code",
   "execution_count": 7,
   "id": "651e33e2",
   "metadata": {},
   "outputs": [
    {
     "data": {
      "image/png": "[encoded data removed]",
      "text/plain": [
       "<Figure size 720x864 with 3 Axes>"
      ]
     },
     "metadata": {},
     "output_type": "display_data"
    }
   ],
   "source": [
    "# Plot of the 5 best players on each surface across the whole dataset \n",
    "# (i.e. per year and not dependant of the location)\n",
    "\n",
    "sns.set_theme(style=\"white\", context=\"talk\")\n",
    "\n",
    "# Available surfaces in the dataset\n",
    "available_surfaces = [surface for surface in [\"Hard\", \"Clay\", \"Grass\"] if surface in surface_counts]\n",
    "\n",
    "for surface in available_surfaces:\n",
    "    win_surface_df = surface_counts[surface].reset_index().sort_values(by=surface, ascending=False)\n",
    "    win_surface_df.to_csv(output_folder + f\"overall_goat_surfaces/wins_{surface.lower()}_{year}.csv\", index=False)\n",
    "\n",
    "# Find the top 5 players for each surface\n",
    "top_players = {surface: surface_counts[[surface]].nlargest(5, surface).reset_index() for surface in available_surfaces}\n",
    "\n",
    "fig, axes = plt.subplots(len(available_surfaces), 1, figsize=(10, 4 * len(available_surfaces)), sharex=False)\n",
    "\n",
    "def add_annotations(ax, data, column):\n",
    "    for i, v in enumerate(data[column]):\n",
    "        ax.text(i, v + 0.5, str(v), ha='center', fontsize=12, fontweight='bold')\n",
    "\n",
    "palette_map = {\"Hard\": \"Blues_r\", \"Clay\": \"Reds_r\", \"Grass\": \"Greens_r\"}\n",
    "\n",
    "if len(available_surfaces) == 1:\n",
    "    axes = [axes]\n",
    "\n",
    "for i, surface in enumerate(available_surfaces):\n",
    "    sns.barplot(\n",
    "        x=\"Winner\",\n",
    "        y=surface,\n",
    "        data=top_players[surface],\n",
    "        palette=palette_map[surface],\n",
    "        ax=axes[i]\n",
    "    )\n",
    "    axes[i].set_title(f\"Top 5 GOAT Players on {surface} Courts\")\n",
    "    axes[i].set_ylabel(\"Wins\")\n",
    "    axes[i].set_xlabel(\"\")\n",
    "    axes[i].axhline(0, color=\"k\", clip_on=False)\n",
    "    add_annotations(axes[i], top_players[surface], surface)\n",
    "\n",
    "sns.despine(bottom=True)\n",
    "plt.tight_layout(h_pad=2)\n",
    "\n",
    "#plt.show()"
   ]
  },
  {
   "cell_type": "markdown",
   "id": "41a30bdb",
   "metadata": {},
   "source": [
    "# 3. Best players on each surface, per tournaments in {year}"
   ]
  },
  {
   "cell_type": "markdown",
   "id": "38c0bf08",
   "metadata": {},
   "source": [
    "Here, the analysis goes beyond just the year: it compares player performances by tournament to identify the GOATs of each one."
   ]
  },
  {
   "cell_type": "code",
   "execution_count": 8,
   "id": "171ece6b",
   "metadata": {},
   "outputs": [
    {
     "name": "stdout",
     "output_type": "stream",
     "text": [
      "Tournament                       \n",
      "Wimbledon                            127\n",
      "US Open                              127\n",
      "Australian Open                      127\n",
      "French Open                          127\n",
      "Pacific Life Open                     95\n",
      "                                    ... \n",
      "Hypo Group Tennis International       31\n",
      "Idea Prokom Open                      31\n",
      "Indianapolis Tennis Championships     31\n",
      "International Championships           31\n",
      "Masters Cup                           15\n",
      "Length: 66, dtype: int64\n"
     ]
    }
   ],
   "source": [
    "tournament_names = ultimate['Tournament'].unique()\n",
    "\n",
    "# Count the number of matches per Tournament\n",
    "tournament_counts = ultimate_filtered[['Tournament']].value_counts()\n",
    "\n",
    "print(tournament_counts)"
   ]
  },
  {
   "cell_type": "code",
   "execution_count": 9,
   "id": "52feae40",
   "metadata": {},
   "outputs": [
    {
     "name": "stdout",
     "output_type": "stream",
     "text": [
      "Tournament: Next Generation Adelaide International\n",
      "========================================\n",
      "Tournament: Chennai Open\n",
      "========================================\n",
      "Tournament: Qatar Exxon Mobil Open\n",
      "========================================\n",
      "Tournament: Heineken Open\n",
      "========================================\n",
      "Tournament: Sydney International\n",
      "========================================\n",
      "Tournament: Australian Open\n",
      "========================================\n",
      "Tournament: International Championships\n",
      "========================================\n",
      "Tournament: Movistar Open\n",
      "========================================\n",
      "Tournament: PBZ Zagreb Indoors\n",
      "========================================\n",
      "Tournament: Brasil Open\n",
      "========================================\n",
      "Tournament: Open 13\n",
      "========================================\n",
      "Tournament: SAP Open\n",
      "========================================\n",
      "Tournament: Copa Telmex\n",
      "========================================\n",
      "Tournament: Regions Morgan Keegan Championships\n",
      "========================================\n",
      "Tournament: ABN AMRO World Tennis Tournament\n",
      "========================================\n",
      "Tournament: Abierto Mexicano\n",
      "========================================\n",
      "Tournament: Dubai Tennis Championships\n",
      "========================================\n",
      "Tournament: Channel Open\n",
      "========================================\n",
      "Tournament: Pacific Life Open\n",
      "========================================\n",
      "Tournament: Sony Ericsson Open\n",
      "========================================\n",
      "Tournament: U.S. Men's Clay Court Championships\n",
      "========================================\n",
      "Tournament: Open de Tenis Comunidad Valenciana\n",
      "========================================\n",
      "Tournament: Monte Carlo Masters\n",
      "========================================\n",
      "Tournament: Open Seat Godo\n",
      "========================================\n",
      "Tournament: Grand Prix Hassan II\n",
      "========================================\n",
      "Tournament: Estoril Open\n",
      "========================================\n",
      "Tournament: BMW Open\n",
      "========================================\n",
      "Tournament: Internazionali BNL d'Italia\n",
      "========================================\n",
      "Tournament: Hamburg TMS\n",
      "========================================\n",
      "Tournament: Hypo Group Tennis International\n",
      "========================================\n",
      "Tournament: French Open\n",
      "========================================\n",
      "Tournament: Gerry Weber Open\n",
      "========================================\n",
      "Tournament: Stella Artois\n",
      "========================================\n",
      "Tournament: Ordina Open\n",
      "========================================\n",
      "Tournament: The Nottingham Open\n",
      "========================================\n",
      "Tournament: Wimbledon\n",
      "========================================\n",
      "Tournament: Catella Swedish Open\n",
      "========================================\n",
      "Tournament: Allianz Suisse Open\n",
      "========================================\n",
      "Tournament: Hall of Fame Championships\n",
      "========================================\n",
      "Tournament: Dutch Open\n",
      "========================================\n",
      "Tournament: Countrywide Classic\n",
      "========================================\n",
      "Tournament: Mercedes Cup\n",
      "========================================\n",
      "Tournament: Indianapolis Tennis Championships\n",
      "========================================\n",
      "Tournament: Austrian Open\n",
      "========================================\n",
      "Tournament: Croatia Open\n",
      "========================================\n",
      "Tournament: Idea Prokom Open\n",
      "========================================\n",
      "Tournament: Legg Mason Classic\n",
      "========================================\n",
      "Tournament: Rogers Masters\n",
      "========================================\n",
      "Tournament: Western & Southern Financial Group Masters\n",
      "========================================\n",
      "Tournament: Pilot Pen Tennis\n",
      "========================================\n",
      "Tournament: US Open\n",
      "========================================\n",
      "Tournament: China Open\n",
      "========================================\n",
      "Tournament: Open Romania\n",
      "========================================\n",
      "Tournament: Thailand Open\n",
      "========================================\n",
      "Tournament: Kingfisher Airlines Tennis Open\n",
      "========================================\n",
      "Tournament: Open de Moselle\n",
      "========================================\n",
      "Tournament: AIG Japan Open Tennis Championships\n",
      "========================================\n",
      "Tournament: Kremlin Cup\n",
      "========================================\n",
      "Tournament: Stockholm Open\n",
      "========================================\n",
      "Tournament: BA-CA Tennis Trophy\n",
      "========================================\n",
      "Tournament: Madrid Masters\n",
      "========================================\n",
      "Tournament: Davidoff Swiss Indoors\n",
      "========================================\n",
      "Tournament: Grand Prix de Lyon\n",
      "========================================\n",
      "Tournament: St. Petersburg Open\n",
      "========================================\n",
      "Tournament: BNP Paribas\n",
      "========================================\n",
      "Tournament: Masters Cup\n",
      "========================================\n"
     ]
    }
   ],
   "source": [
    "# Find the best player for each city on each surface \n",
    "# (Usually every city has only one surface's type)\n",
    "# Save the classement in each city in {year} for each surface\n",
    "\n",
    "tournament_results = {}\n",
    "    \n",
    "with open(output_folder + f'tournament_list/tournaments_{year}.json', 'w', encoding='utf-8') as f:\n",
    "    json.dump(tournament_names.tolist(), f, ensure_ascii=False, indent=2)\n",
    "    \n",
    "def save_csv_tournament(df, surface, tournament): \n",
    "    sorted_df = df[surface].sort_values(ascending=False)\n",
    "    file_name = output_folder + f\"tournament_goat/{tournament}_goat_players_on_{surface}_{year}.csv\"\n",
    "    sorted_df.to_csv(file_name, index=True)\n",
    "\n",
    "for tournament in tournament_names:\n",
    "\n",
    "    tournament_df = ultimate[ultimate['Tournament'] == tournament]\n",
    "\n",
    "    # Compute wins by surface for each tournament\n",
    "    tournament_surface_counts = tournament_df.groupby(['Winner', 'Surface']).size().unstack(fill_value=0)\n",
    "\n",
    "    tournament_results[tournament] = tournament_surface_counts\n",
    "    \n",
    "    print(f\"Tournament: {tournament}\")\n",
    "    if 'Grass' in tournament_surface_counts: \n",
    "        best_grass = tournament_surface_counts['Grass'].idxmax()\n",
    "        #print(f\"🎾 GOAT Grass Court Player in {tournament} in {year} 🎾: {best_grass} with {tournament_surface_counts.loc[best_grass, 'Grass']} wins\")\n",
    "        save_csv_tournament(tournament_surface_counts, 'Grass', tournament)\n",
    "        \n",
    "    if 'Clay' in tournament_surface_counts: \n",
    "        best_clay = tournament_surface_counts['Clay'].idxmax()\n",
    "        #print(f\"🎾 GOAT Clay Court Player in {tournament} in {year} 🎾: {best_clay} with {tournament_surface_counts.loc[best_clay, 'Clay']} wins\")\n",
    "        save_csv_tournament(tournament_surface_counts, 'Clay', tournament)\n",
    "        \n",
    "    if 'Hard' in tournament_surface_counts: \n",
    "        best_hard = tournament_surface_counts['Hard'].idxmax()\n",
    "        #print(f\"🎾 GOAT Hard Court Player in {tournament} in {year} 🎾: {best_hard} with {tournament_surface_counts.loc[best_hard, 'Hard']} wins\")\n",
    "        save_csv_tournament(tournament_surface_counts, 'Hard', tournament)\n",
    "    print(\"=\"*40)\n",
    "    "
   ]
  },
  {
   "cell_type": "code",
   "execution_count": 10,
   "id": "903fe276",
   "metadata": {},
   "outputs": [],
   "source": [
    "#palette_map = {\"Hard\": \"Blues_r\", \"Clay\": \"Reds_r\", \"Grass\": \"Greens_r\"}\n",
    "\n",
    "#for tournament, df in tournament_results.items():\n",
    "\n",
    "#    df_melted = df.reset_index().melt(id_vars=\"Winner\", var_name=\"Surface\", value_name=\"Wins\")\n",
    "\n",
    "#    df_melted = df_melted[df_melted[\"Wins\"] > 0]\n",
    "\n",
    "\n",
    "    #top_5_players = df_melted.groupby(\"Surface\").apply(lambda x: x.nlargest(5, \"Wins\")).reset_index(drop=True)\n",
    "\n",
    "    #plt.figure(figsize=(10, 6))\n",
    "    #sns.barplot(\n",
    "    #    data=top_5_players,\n",
    "    #    x=\"Wins\",\n",
    "    #    y=\"Winner\",\n",
    "    #    hue=\"Surface\",\n",
    "    #    palette={surface: sns.color_palette(palette_map[surface], as_cmap=True)(0.7) for surface in top_5_players[\"Surface\"].unique()}\n",
    "    #)\n",
    "\n",
    "    #plt.title(f\"Top 5 Players by Surface in {tournament} in {year}\", fontsize=14, fontweight='bold')\n",
    "    #plt.xlabel(\"Wins\")\n",
    "    #plt.ylabel(\"Player\")\n",
    "    #plt.legend(title=\"Surface\")\n",
    "    #plt.grid(axis=\"x\", linestyle=\"--\", alpha=0.7)\n",
    "    #plt.tight_layout()\n",
    "\n",
    "    #plt.show()"
   ]
  }
 ],
 "metadata": {
  "kernelspec": {
   "display_name": "Python 3 (ipykernel)",
   "language": "python",
   "name": "python3"
  },
  "language_info": {
   "codemirror_mode": {
    "name": "ipython",
    "version": 3
   },
   "file_extension": ".py",
   "mimetype": "text/x-python",
   "name": "python",
   "nbconvert_exporter": "python",
   "pygments_lexer": "ipython3",
   "version": "3.9.12"
  }
 },
 "nbformat": 4,
 "nbformat_minor": 5
}
